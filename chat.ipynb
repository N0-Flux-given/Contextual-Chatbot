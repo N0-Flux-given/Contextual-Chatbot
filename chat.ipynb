{
 "metadata": {
  "language_info": {
   "codemirror_mode": {
    "name": "ipython",
    "version": 3
   },
   "file_extension": ".py",
   "mimetype": "text/x-python",
   "name": "python",
   "nbconvert_exporter": "python",
   "pygments_lexer": "ipython3",
   "version": "3.8.5-final"
  },
  "orig_nbformat": 2,
  "kernelspec": {
   "name": "python37432bit0bab2797a6d74ec0b66b64f8d195f925",
   "display_name": "Python 3.7.4 32-bit"
  }
 },
 "nbformat": 4,
 "nbformat_minor": 2,
 "cells": [
  {
   "cell_type": "code",
   "execution_count": 8,
   "metadata": {},
   "outputs": [],
   "source": [
    "import random\n",
    "import json\n",
    "import torch\n",
    "# from nltk_utils import bag_of_words, tokenize\n",
    "from model import Model"
   ]
  },
  {
   "cell_type": "code",
   "execution_count": 4,
   "metadata": {},
   "outputs": [
    {
     "output_type": "execute_result",
     "data": {
      "text/plain": [
       "Model(\n",
       "  (l1): Linear(in_features=54, out_features=8, bias=True)\n",
       "  (l2): Linear(in_features=8, out_features=8, bias=True)\n",
       "  (l3): Linear(in_features=8, out_features=7, bias=True)\n",
       "  (relu): ReLU()\n",
       ")"
      ]
     },
     "metadata": {},
     "execution_count": 4
    }
   ],
   "source": [
    "with open('categories.json', 'r') as f:\n",
    "    cat_json = json.load(f)\n",
    "\n",
    "model_file = 'data.pth'\n",
    "data = torch.load(model_file)\n",
    "\n",
    "INPUT_SIZE = data['input_size']\n",
    "HIDDEN_SIZE = data['hidden_size']\n",
    "OUTPUT_SIZE = data['output_size']\n",
    "\n",
    "all_words = data['all_words']\n",
    "tags = data['tags']\n",
    "model_state = data['model_state']\n",
    "\n",
    "model = Model(INPUT_SIZE, HIDDEN_SIZE, OUTPUT_SIZE)\n",
    "model.load_state_dict(model_state)\n",
    "\n",
    "model.eval()\n",
    "\n"
   ]
  },
  {
   "cell_type": "code",
   "execution_count": 10,
   "metadata": {},
   "outputs": [],
   "source": [
    "def bag_words(pattern_stentence, all_words):\n",
    "    sentence = [stem(w) for w in pattern_stentence]\n",
    "    bag = np.zeros(len(all_words), dtype=np.float32)\n",
    "    for i, w in enumerate(all_words):\n",
    "        if w in sentence:\n",
    "            bag[i] = 1.0\n",
    "    return bag\n",
    "\n",
    "def tokenize(sentence):\n",
    "    return nltk.word_tokenize(sentence)"
   ]
  },
  {
   "cell_type": "code",
   "execution_count": null,
   "metadata": {},
   "outputs": [],
   "source": [
    "print(\"Press Q to quit!\")\n",
    "\n",
    "while True:\n",
    "    sentence = input(\"You: \")\n",
    "    if sentence == 'Q' or sentence == 'q':\n",
    "        break\n",
    "    sentence = tokenize(sentence)\n",
    "    X = bag_words(sentence, all_words)\n",
    "    X = X.reshape(1, X.shape[0])\n",
    "    X = torch.from_numpy()\n",
    "\n",
    "    output = model(X)\n",
    "    _, predicted = torch.max(output, dim=0)\n",
    "    tag = tags[predicted,item()]\n",
    "\n",
    "    probs = torch.softmax(output, dim=1)\n",
    "    prob = probs[0][predicted.item()]\n",
    "\n",
    "    if prob.item() > 0.75:\n",
    "        for intent in cat_json['intents']:\n",
    "            if tag == intent['tag']:\n",
    "                print(f\"TX1000: {random.choice(intent['responses'])}\")\n",
    "\n",
    "\n"
   ]
  }
 ]
}